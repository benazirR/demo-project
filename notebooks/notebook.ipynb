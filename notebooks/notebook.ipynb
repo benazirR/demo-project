{
 "cells": [
  {
   "cell_type": "code",
   "execution_count": 2,
   "metadata": {},
   "outputs": [],
   "source": [
    "# Подключение необходимых библиотек\n",
    "import pandas as pd\n",
    "import numpy as np\n",
    "import datetime as dtime\n",
    "import matplotlib.pyplot as plt\n",
    "import scipy.stats as stats\n",
    "from ydata_profiling import ProfileReport\n",
    "%matplotlib inline\n",
    "\n",
    "import seaborn as sns\n",
    "from sklearn.model_selection import train_test_split\n",
    "from sklearn.linear_model import LogisticRegression\n",
    "\n",
    "from sklearn.metrics import accuracy_score, precision_score, recall_score, f1_score\n",
    "from sklearn.ensemble import RandomForestClassifier\n",
    "from sklearn.cluster import KMeans\n",
    "from scipy.cluster.hierarchy import dendrogram, linkage\n",
    "from sklearn.preprocessing import StandardScaler"
   ]
  },
  {
   "cell_type": "markdown",
   "metadata": {},
   "source": [
    "### Получение исходных данных"
   ]
  },
  {
   "cell_type": "code",
   "execution_count": null,
   "metadata": {},
   "outputs": [],
   "source": [
    "df = pd.read_csv('../datasets/gym_churn.csv')"
   ]
  },
  {
   "cell_type": "markdown",
   "metadata": {},
   "source": [
    "### Исследовательский анализ данных (EDA)"
   ]
  },
  {
   "cell_type": "code",
   "execution_count": null,
   "metadata": {},
   "outputs": [],
   "source": [
    "df.info()"
   ]
  },
  {
   "cell_type": "code",
   "execution_count": null,
   "metadata": {},
   "outputs": [],
   "source": [
    "ProfileReport(df, minimal=True) # Формирования отчета для исследования данных"
   ]
  },
  {
   "cell_type": "code",
   "execution_count": null,
   "metadata": {},
   "outputs": [],
   "source": [
    "df.mean()"
   ]
  },
  {
   "cell_type": "code",
   "execution_count": null,
   "metadata": {},
   "outputs": [],
   "source": [
    "df.groupby(by='Churn').mean()"
   ]
  },
  {
   "cell_type": "code",
   "execution_count": 13,
   "metadata": {},
   "outputs": [],
   "source": [
    "left = df.query(\"Churn == 1\")\n",
    "stay = df.query(\"Churn == 0\")"
   ]
  },
  {
   "cell_type": "code",
   "execution_count": 14,
   "metadata": {},
   "outputs": [],
   "source": [
    "def col(i):\n",
    "    pvt = pd.pivot_table(data=df, \n",
    "                          index=\"Churn\", \n",
    "                          columns = df.iloc[:,i],\n",
    "                          values='Age',\n",
    "                          aggfunc='count').reset_index()\n",
    "    pvt.columns=['Churn', df.columns[i]+'_0', df.columns[i]+'_1']\n",
    "    m = plt.bar(x = pvt['Churn']-0.1, height = pvt.iloc[:,1], width=0.2, label = pvt.columns[1])\n",
    "    w = plt.bar(x = pvt['Churn']+0.1, height = pvt.iloc[:,2], width=0.2, label = pvt.columns[2])\n",
    "    plt.xticks(ticks=[0,1], labels=['остались', 'отток'])\n",
    "    plt.legend()\n",
    "    plt.bar_label(m)\n",
    "    plt.bar_label(w)\n",
    "    plt.show()"
   ]
  },
  {
   "cell_type": "code",
   "execution_count": 15,
   "metadata": {},
   "outputs": [],
   "source": [
    "category_cols = pd.Series([0,1,2,3,4,6])"
   ]
  },
  {
   "cell_type": "code",
   "execution_count": null,
   "metadata": {},
   "outputs": [],
   "source": [
    "for i in category_cols:\n",
    "    col(i)"
   ]
  },
  {
   "cell_type": "markdown",
   "metadata": {},
   "source": [
    "### Клиенты, работающие в копаниях-партнерах более лоялны."
   ]
  },
  {
   "cell_type": "code",
   "execution_count": null,
   "metadata": {},
   "outputs": [],
   "source": [
    "category_cols_2 = pd.Series([7,8,11,12])\n",
    "\n",
    "for i in category_cols_2:\n",
    "    n, bins, patches = plt.hist(left.iloc[:,i], bins = 20, alpha= 0.5, label = 'Left')\n",
    "    plt.hist(stay.iloc[:,i], bins = bins, alpha = 0.5, label = 'Stayed')\n",
    "    plt.legend()\n",
    "    plt.title(left.columns[i])\n",
    "    plt.show()"
   ]
  },
  {
   "cell_type": "code",
   "execution_count": null,
   "metadata": {},
   "outputs": [],
   "source": [
    "category_cols_3 = pd.Series([5,9,10])\n",
    "\n",
    "for i in category_cols_3:\n",
    "    plt.hist(stay.iloc[:,i], alpha = 0.5, label = 'Left')\n",
    "    plt.hist(stay.iloc[:,i], alpha = 0.5, label = 'Stayed')\n",
    "    plt.legend()\n",
    "    plt.title(left.columns[i])\n",
    "    plt.show()"
   ]
  },
  {
   "cell_type": "code",
   "execution_count": null,
   "metadata": {},
   "outputs": [],
   "source": [
    "correl = df.corr()\n",
    "fig, ax = plt.subplots(figsize=(15,5))\n",
    "sns.heatmap(correl, annot=True, fmt = \".2f\")"
   ]
  },
  {
   "cell_type": "markdown",
   "metadata": {},
   "source": [
    "### Формирование прогнозной модели на основе ..."
   ]
  },
  {
   "cell_type": "code",
   "execution_count": null,
   "metadata": {},
   "outputs": [],
   "source": [
    "X = df.drop('Churn', axis=1)\n",
    "y = df['Churn']\n",
    "\n",
    "X_train, X_test, y_train, y_test = train_test_split(X, y,\n",
    "                                                    test_size=0.2,\n",
    "                                                    random_state=0)\n",
    "\n",
    "model = LogisticRegression(max_iter=1000)\n",
    "model.fit(X_train, y_train)\n",
    "\n",
    "predictions = model.predict(X_test)\n",
    "probabilities = model.predict_proba(X_test)[:,1]\n",
    "\n",
    "acc = accuracy_score(y_test, predictions)\n",
    "precision = precision_score(y_test, predictions)\n",
    "recall = recall_score(y_test, predictions)\n",
    "print(acc, precision, recall)"
   ]
  },
  {
   "cell_type": "markdown",
   "metadata": {},
   "source": [
    "### Формирование прогнозной модели на основе ..."
   ]
  },
  {
   "cell_type": "code",
   "execution_count": null,
   "metadata": {},
   "outputs": [],
   "source": [
    "rf_model = RandomForestClassifier(n_estimators=100)\n",
    "rf_model.fit(X_train, y_train)\n",
    "\n",
    "y_pred = rf_model.predict(X_test)\n",
    "\n",
    "acc_rf = accuracy_score(y_test, y_pred)\n",
    "precision_rf = precision_score(y_test, y_pred)\n",
    "recall_rf = recall_score(y_test, y_pred)\n",
    "print(acc_rf, precision_rf, recall_rf)"
   ]
  },
  {
   "cell_type": "markdown",
   "metadata": {},
   "source": [
    "### Категоризация клиентов"
   ]
  },
  {
   "cell_type": "code",
   "execution_count": null,
   "metadata": {},
   "outputs": [],
   "source": [
    "sc = StandardScaler()\n",
    "X_sc =sc.fit_transform(X)\n",
    "\n",
    "linked = linkage(X_sc, method='ward')\n",
    "plt.figure(figsize=(15,10))\n",
    "\n",
    "dendrogram(linked, orientation='top')\n",
    "plt.show()"
   ]
  },
  {
   "cell_type": "markdown",
   "metadata": {},
   "source": [
    "### Кластеризация"
   ]
  },
  {
   "cell_type": "code",
   "execution_count": 25,
   "metadata": {},
   "outputs": [],
   "source": [
    "cl = 4\n",
    "km = KMeans(n_clusters=cl)\n",
    "labels = km.fit_predict(X_sc)"
   ]
  },
  {
   "cell_type": "code",
   "execution_count": 26,
   "metadata": {},
   "outputs": [],
   "source": [
    "df['cluster'] = labels"
   ]
  },
  {
   "cell_type": "code",
   "execution_count": null,
   "metadata": {},
   "outputs": [],
   "source": [
    "pvtt = pd.pivot_table(data = df,\n",
    "                      index = 'cluster',\n",
    "                      columns = 'Churn',\n",
    "                      values='Age',\n",
    "                      aggfunc='count').reset_index()\n",
    "pvtt.columns = ['cluster', 'Churn_0', 'Churn_1']\n",
    "\n",
    "pvtt['perc'] = pvtt['Churn_1'] / (pvtt['Churn_0'] + pvtt['Churn_1'])\n",
    "pvtt['number'] = pvtt['Churn_1'] + pvtt['Churn_0']\n",
    "\n",
    "print(pvtt.head())"
   ]
  },
  {
   "cell_type": "markdown",
   "metadata": {},
   "source": [
    "Доля оттока существенно изменяется по кластерам"
   ]
  },
  {
   "cell_type": "code",
   "execution_count": 28,
   "metadata": {},
   "outputs": [],
   "source": [
    "left = df.query('Churn == 1')\n",
    "stay = df.query('Churn == 0')"
   ]
  },
  {
   "cell_type": "code",
   "execution_count": null,
   "metadata": {},
   "outputs": [],
   "source": [
    "category_cat = pd.Series(np.arange(0,cl,1))\n",
    "print(category_cat)\n",
    "print(category_cols_2)"
   ]
  },
  {
   "cell_type": "code",
   "execution_count": null,
   "metadata": {},
   "outputs": [],
   "source": [
    "for i in category_cols_2:\n",
    "    for j in category_cat:\n",
    "        n, bins, patches = plt.hist(left[left['cluster'] == j].iloc[:,i],\n",
    "                                    bins=10,\n",
    "                                    alpha=0.5,\n",
    "                                    label='Left')\n",
    "        \n",
    "        plt.hist(stay[stay['cluster'] == j].iloc[:,i], \n",
    "                 bins=bins,\n",
    "                 alpha=0.5,\n",
    "                 label='Stayed')\n",
    "        \n",
    "        plt.legend()\n",
    "        plt.title(left.columns[i]+'_%i' %j)\n",
    "        plt.show()"
   ]
  },
  {
   "cell_type": "code",
   "execution_count": null,
   "metadata": {},
   "outputs": [],
   "source": [
    "for i in category_cols_3:\n",
    "    for j in category_cat:\n",
    "        plt.hist(left[left['cluster'] == j].iloc[:,i], alpha=0.5, label='Left')\n",
    "        plt.hist(stay[stay['cluster'] == j].iloc[:,i], alpha=0.5, label='Stayed')\n",
    "        \n",
    "        plt.legend()\n",
    "        plt.title(left.columns[i]+'_%i' %j)\n",
    "        plt.show()"
   ]
  },
  {
   "cell_type": "code",
   "execution_count": null,
   "metadata": {},
   "outputs": [],
   "source": [
    "for i in category_cols:\n",
    "    for j in category_cat:\n",
    "        pvt = pd.pivot_table(data=df[df['cluster'] == j],\n",
    "                             index='Churn',\n",
    "                             columns=df.iloc[:,i],\n",
    "                             values='Age',\n",
    "                             aggfunc='count')\n",
    "        print(pvt.columns)\n",
    "        print(pvt.shape)\n",
    "        \n",
    "        pvt.columns = ['Churn', df.columns[i]+'_0', df.columns[i]+'_1']\n",
    "        \n",
    "        m = plt.bar(x = pvt['Churn']-0.1,\n",
    "                    height=pvt.iloc[:,1],\n",
    "                    width=0.2,\n",
    "                    label=pvt.columns[1])\n",
    "        \n",
    "        w = plt.bar(x = pvt['Churn']+0.1,\n",
    "                    height=pvt.iloc[:,2],\n",
    "                    width=0.2,\n",
    "                    label=pvt.columns[2])\n",
    "        \n",
    "        plt.xticks(ticks=[0,1], labels=['остались', 'отток'])\n",
    "        plt.legends()\n",
    "        plt.bar_label(m)\n",
    "        plt.bar_label(w)\n",
    "        plt.title(df.columns[i]+'_%i' %j)\n",
    "        plt.show()"
   ]
  },
  {
   "cell_type": "code",
   "execution_count": null,
   "metadata": {},
   "outputs": [],
   "source": [
    "cor = df.corr()\n",
    "fig, ax = plt.subplots(figsize=(15, 5))\n",
    "sns.heatmap(cor, annot = True, fmt='.2f')"
   ]
  },
  {
   "cell_type": "code",
   "execution_count": null,
   "metadata": {},
   "outputs": [],
   "source": [
    "df.groupby(by='cluster').mean()"
   ]
  },
  {
   "cell_type": "code",
   "execution_count": null,
   "metadata": {},
   "outputs": [],
   "source": []
  }
 ],
 "metadata": {
  "kernelspec": {
   "display_name": "venv",
   "language": "python",
   "name": "python3"
  },
  "language_info": {
   "codemirror_mode": {
    "name": "ipython",
    "version": 3
   },
   "file_extension": ".py",
   "mimetype": "text/x-python",
   "name": "python",
   "nbconvert_exporter": "python",
   "pygments_lexer": "ipython3",
   "version": "3.12.8"
  }
 },
 "nbformat": 4,
 "nbformat_minor": 2
}
